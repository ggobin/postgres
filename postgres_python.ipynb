{
 "cells": [
  {
   "cell_type": "markdown",
   "metadata": {},
   "source": [
    "# Requêtes avec Python\n",
    "\n",
    "  Initialisation de la connexion \n",
    "  sudo apt-get install libpq-dev\n",
    "  pip install psycopg2"
   ]
  },
  {
   "cell_type": "code",
   "execution_count": 2,
   "metadata": {},
   "outputs": [],
   "source": [
    "# Connexion à la base de données \n",
    "\n",
    "import psycopg2\n",
    "\n",
    "conn = psycopg2.connect(database=\"chenil_v4\",\n",
    "                        host=\"54.74.66.11\",\n",
    "                        user=\"daniel\",\n",
    "                        password=\"datascientest\",\n",
    "                        port=\"5432\")"
   ]
  },
  {
   "cell_type": "code",
   "execution_count": 5,
   "metadata": {},
   "outputs": [
    {
     "name": "stdout",
     "output_type": "stream",
     "text": [
      "(2, 'Mentalo', 6, False, None, datetime.date(2017, 9, 15), 'Blanc', 2, Decimal('966'), datetime.date(2023, 10, 25))\n",
      "(3, 'Maggie', 6, True, '99279', datetime.date(2014, 3, 27), 'Brun', 3, Decimal('883'), datetime.date(2022, 6, 27))\n",
      "(4, 'Whisky', 2, True, '35941', datetime.date(2020, 3, 11), 'Doré', 4, Decimal('543'), datetime.date(2023, 2, 5))\n",
      "(5, 'Bibi', 6, True, '88123', datetime.date(2020, 10, 10), 'Beige', None, Decimal('894'), None)\n",
      "(6, 'Buddy', 4, True, None, datetime.date(2019, 2, 5), 'Rouge', 5, Decimal('250'), datetime.date(2020, 1, 1))\n",
      "(7, 'Sophie', 5, False, None, datetime.date(2016, 7, 1), 'Doré', 5, Decimal('644'), datetime.date(2022, 3, 30))\n",
      "(8, 'Molly', 2, False, '38281', datetime.date(2018, 6, 16), 'Gris', None, None, None)\n",
      "(9, 'Padbol', 7, False, None, datetime.date(2014, 2, 27), 'Blanc et noir', None, Decimal('685'), None)\n",
      "(10, 'Buddy', 4, True, None, datetime.date(2019, 2, 5), 'Rouge', 6, Decimal('847'), datetime.date(2023, 8, 14))\n",
      "(11, 'Bibi', 8, False, '61006', datetime.date(2018, 6, 30), 'Noir', 7, Decimal('692'), datetime.date(2022, 9, 28))\n"
     ]
    }
   ],
   "source": [
    "# Requête \n",
    "cur = conn.cursor()\n",
    "cur.execute(\"SELECT * FROM Chiens LIMIT 10;\")\n",
    "\n",
    "# Affiche du résultat de la requête\n",
    "rows = cur.fetchall()\n",
    "for row in rows:\n",
    "    print(row)\n",
    "    \n",
    "# Fermeture de la connexion\n",
    "cur.close()\n",
    "conn.close()"
   ]
  },
  {
   "cell_type": "markdown",
   "metadata": {},
   "source": [
    "# Gestion des transactions\n",
    " "
   ]
  },
  {
   "cell_type": "code",
   "execution_count": null,
   "metadata": {},
   "outputs": [],
   "source": []
  },
  {
   "cell_type": "code",
   "execution_count": null,
   "metadata": {},
   "outputs": [],
   "source": [
    "#"
   ]
  }
 ],
 "metadata": {
  "kernelspec": {
   "display_name": "mon_env",
   "language": "python",
   "name": "python3"
  },
  "language_info": {
   "codemirror_mode": {
    "name": "ipython",
    "version": 3
   },
   "file_extension": ".py",
   "mimetype": "text/x-python",
   "name": "python",
   "nbconvert_exporter": "python",
   "pygments_lexer": "ipython3",
   "version": "3.8.10"
  }
 },
 "nbformat": 4,
 "nbformat_minor": 2
}
